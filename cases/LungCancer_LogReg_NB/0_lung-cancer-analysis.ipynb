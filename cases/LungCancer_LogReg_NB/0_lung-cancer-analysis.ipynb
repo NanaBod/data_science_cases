{
 "cells": [
  {
   "cell_type": "markdown",
   "metadata": {},
   "source": [
    "# Lung Cancer Analysis\n",
    "Objective: Perform EDA and modeling"
   ]
  },
  {
   "cell_type": "markdown",
   "metadata": {},
   "source": [
    "# Import necessary packages"
   ]
  },
  {
   "cell_type": "code",
   "execution_count": 3,
   "metadata": {
    "execution": {
     "iopub.execute_input": "2025-02-08T11:10:27.685733Z",
     "iopub.status.busy": "2025-02-08T11:10:27.685268Z",
     "iopub.status.idle": "2025-02-08T11:10:27.692838Z",
     "shell.execute_reply": "2025-02-08T11:10:27.69114Z",
     "shell.execute_reply.started": "2025-02-08T11:10:27.685702Z"
    },
    "trusted": true
   },
   "outputs": [],
   "source": [
    "import pandas as pd\n",
    "import numpy as np\n",
    "import matplotlib.pyplot as plt\n",
    "import seaborn as sns\n",
    "import plotly.express as px\n",
    "import warnings\n",
    "from sklearn.model_selection import train_test_split\n",
    "from sklearn.preprocessing import OneHotEncoder, LabelEncoder, StandardScaler\n",
    "from sklearn.metrics import accuracy_score, confusion_matrix, classification_report\n",
    "from sklearn.linear_model import LogisticRegression\n",
    "from sklearn.ensemble import RandomForestClassifier"
   ]
  },
  {
   "cell_type": "markdown",
   "metadata": {},
   "source": [
    "# Load Data"
   ]
  },
  {
   "cell_type": "code",
   "execution_count": 4,
   "metadata": {
    "execution": {
     "iopub.execute_input": "2025-02-08T10:51:36.470425Z",
     "iopub.status.busy": "2025-02-08T10:51:36.469924Z",
     "iopub.status.idle": "2025-02-08T10:51:37.514153Z",
     "shell.execute_reply": "2025-02-08T10:51:37.513101Z",
     "shell.execute_reply.started": "2025-02-08T10:51:36.470399Z"
    },
    "trusted": true
   },
   "outputs": [
    {
     "ename": "FileNotFoundError",
     "evalue": "[Errno 2] No such file or directory: '/kaggle/input/lung-cancer-risk-in-25-countries/lung_cancer_prediction_dataset.csv'",
     "output_type": "error",
     "traceback": [
      "\u001b[1;31m---------------------------------------------------------------------------\u001b[0m",
      "\u001b[1;31mFileNotFoundError\u001b[0m                         Traceback (most recent call last)",
      "Cell \u001b[1;32mIn[4], line 1\u001b[0m\n\u001b[1;32m----> 1\u001b[0m data \u001b[38;5;241m=\u001b[39m  \u001b[43mpd\u001b[49m\u001b[38;5;241;43m.\u001b[39;49m\u001b[43mread_csv\u001b[49m\u001b[43m(\u001b[49m\u001b[38;5;124;43m\"\u001b[39;49m\u001b[38;5;124;43m/kaggle/input/lung-cancer-risk-in-25-countries/lung_cancer_prediction_dataset.csv\u001b[39;49m\u001b[38;5;124;43m\"\u001b[39;49m\u001b[43m)\u001b[49m\n\u001b[0;32m      2\u001b[0m df \u001b[38;5;241m=\u001b[39m data\u001b[38;5;241m.\u001b[39mcopy()\n\u001b[0;32m      3\u001b[0m df\u001b[38;5;241m.\u001b[39mhead()\n",
      "File \u001b[1;32mc:\\Users\\nadja\\PyProjects\\LongCancer_LogReg_NB\\logvenv\\Lib\\site-packages\\pandas\\io\\parsers\\readers.py:1026\u001b[0m, in \u001b[0;36mread_csv\u001b[1;34m(filepath_or_buffer, sep, delimiter, header, names, index_col, usecols, dtype, engine, converters, true_values, false_values, skipinitialspace, skiprows, skipfooter, nrows, na_values, keep_default_na, na_filter, verbose, skip_blank_lines, parse_dates, infer_datetime_format, keep_date_col, date_parser, date_format, dayfirst, cache_dates, iterator, chunksize, compression, thousands, decimal, lineterminator, quotechar, quoting, doublequote, escapechar, comment, encoding, encoding_errors, dialect, on_bad_lines, delim_whitespace, low_memory, memory_map, float_precision, storage_options, dtype_backend)\u001b[0m\n\u001b[0;32m   1013\u001b[0m kwds_defaults \u001b[38;5;241m=\u001b[39m _refine_defaults_read(\n\u001b[0;32m   1014\u001b[0m     dialect,\n\u001b[0;32m   1015\u001b[0m     delimiter,\n\u001b[1;32m   (...)\u001b[0m\n\u001b[0;32m   1022\u001b[0m     dtype_backend\u001b[38;5;241m=\u001b[39mdtype_backend,\n\u001b[0;32m   1023\u001b[0m )\n\u001b[0;32m   1024\u001b[0m kwds\u001b[38;5;241m.\u001b[39mupdate(kwds_defaults)\n\u001b[1;32m-> 1026\u001b[0m \u001b[38;5;28;01mreturn\u001b[39;00m \u001b[43m_read\u001b[49m\u001b[43m(\u001b[49m\u001b[43mfilepath_or_buffer\u001b[49m\u001b[43m,\u001b[49m\u001b[43m \u001b[49m\u001b[43mkwds\u001b[49m\u001b[43m)\u001b[49m\n",
      "File \u001b[1;32mc:\\Users\\nadja\\PyProjects\\LongCancer_LogReg_NB\\logvenv\\Lib\\site-packages\\pandas\\io\\parsers\\readers.py:620\u001b[0m, in \u001b[0;36m_read\u001b[1;34m(filepath_or_buffer, kwds)\u001b[0m\n\u001b[0;32m    617\u001b[0m _validate_names(kwds\u001b[38;5;241m.\u001b[39mget(\u001b[38;5;124m\"\u001b[39m\u001b[38;5;124mnames\u001b[39m\u001b[38;5;124m\"\u001b[39m, \u001b[38;5;28;01mNone\u001b[39;00m))\n\u001b[0;32m    619\u001b[0m \u001b[38;5;66;03m# Create the parser.\u001b[39;00m\n\u001b[1;32m--> 620\u001b[0m parser \u001b[38;5;241m=\u001b[39m \u001b[43mTextFileReader\u001b[49m\u001b[43m(\u001b[49m\u001b[43mfilepath_or_buffer\u001b[49m\u001b[43m,\u001b[49m\u001b[43m \u001b[49m\u001b[38;5;241;43m*\u001b[39;49m\u001b[38;5;241;43m*\u001b[39;49m\u001b[43mkwds\u001b[49m\u001b[43m)\u001b[49m\n\u001b[0;32m    622\u001b[0m \u001b[38;5;28;01mif\u001b[39;00m chunksize \u001b[38;5;129;01mor\u001b[39;00m iterator:\n\u001b[0;32m    623\u001b[0m     \u001b[38;5;28;01mreturn\u001b[39;00m parser\n",
      "File \u001b[1;32mc:\\Users\\nadja\\PyProjects\\LongCancer_LogReg_NB\\logvenv\\Lib\\site-packages\\pandas\\io\\parsers\\readers.py:1620\u001b[0m, in \u001b[0;36mTextFileReader.__init__\u001b[1;34m(self, f, engine, **kwds)\u001b[0m\n\u001b[0;32m   1617\u001b[0m     \u001b[38;5;28mself\u001b[39m\u001b[38;5;241m.\u001b[39moptions[\u001b[38;5;124m\"\u001b[39m\u001b[38;5;124mhas_index_names\u001b[39m\u001b[38;5;124m\"\u001b[39m] \u001b[38;5;241m=\u001b[39m kwds[\u001b[38;5;124m\"\u001b[39m\u001b[38;5;124mhas_index_names\u001b[39m\u001b[38;5;124m\"\u001b[39m]\n\u001b[0;32m   1619\u001b[0m \u001b[38;5;28mself\u001b[39m\u001b[38;5;241m.\u001b[39mhandles: IOHandles \u001b[38;5;241m|\u001b[39m \u001b[38;5;28;01mNone\u001b[39;00m \u001b[38;5;241m=\u001b[39m \u001b[38;5;28;01mNone\u001b[39;00m\n\u001b[1;32m-> 1620\u001b[0m \u001b[38;5;28mself\u001b[39m\u001b[38;5;241m.\u001b[39m_engine \u001b[38;5;241m=\u001b[39m \u001b[38;5;28;43mself\u001b[39;49m\u001b[38;5;241;43m.\u001b[39;49m\u001b[43m_make_engine\u001b[49m\u001b[43m(\u001b[49m\u001b[43mf\u001b[49m\u001b[43m,\u001b[49m\u001b[43m \u001b[49m\u001b[38;5;28;43mself\u001b[39;49m\u001b[38;5;241;43m.\u001b[39;49m\u001b[43mengine\u001b[49m\u001b[43m)\u001b[49m\n",
      "File \u001b[1;32mc:\\Users\\nadja\\PyProjects\\LongCancer_LogReg_NB\\logvenv\\Lib\\site-packages\\pandas\\io\\parsers\\readers.py:1880\u001b[0m, in \u001b[0;36mTextFileReader._make_engine\u001b[1;34m(self, f, engine)\u001b[0m\n\u001b[0;32m   1878\u001b[0m     \u001b[38;5;28;01mif\u001b[39;00m \u001b[38;5;124m\"\u001b[39m\u001b[38;5;124mb\u001b[39m\u001b[38;5;124m\"\u001b[39m \u001b[38;5;129;01mnot\u001b[39;00m \u001b[38;5;129;01min\u001b[39;00m mode:\n\u001b[0;32m   1879\u001b[0m         mode \u001b[38;5;241m+\u001b[39m\u001b[38;5;241m=\u001b[39m \u001b[38;5;124m\"\u001b[39m\u001b[38;5;124mb\u001b[39m\u001b[38;5;124m\"\u001b[39m\n\u001b[1;32m-> 1880\u001b[0m \u001b[38;5;28mself\u001b[39m\u001b[38;5;241m.\u001b[39mhandles \u001b[38;5;241m=\u001b[39m \u001b[43mget_handle\u001b[49m\u001b[43m(\u001b[49m\n\u001b[0;32m   1881\u001b[0m \u001b[43m    \u001b[49m\u001b[43mf\u001b[49m\u001b[43m,\u001b[49m\n\u001b[0;32m   1882\u001b[0m \u001b[43m    \u001b[49m\u001b[43mmode\u001b[49m\u001b[43m,\u001b[49m\n\u001b[0;32m   1883\u001b[0m \u001b[43m    \u001b[49m\u001b[43mencoding\u001b[49m\u001b[38;5;241;43m=\u001b[39;49m\u001b[38;5;28;43mself\u001b[39;49m\u001b[38;5;241;43m.\u001b[39;49m\u001b[43moptions\u001b[49m\u001b[38;5;241;43m.\u001b[39;49m\u001b[43mget\u001b[49m\u001b[43m(\u001b[49m\u001b[38;5;124;43m\"\u001b[39;49m\u001b[38;5;124;43mencoding\u001b[39;49m\u001b[38;5;124;43m\"\u001b[39;49m\u001b[43m,\u001b[49m\u001b[43m \u001b[49m\u001b[38;5;28;43;01mNone\u001b[39;49;00m\u001b[43m)\u001b[49m\u001b[43m,\u001b[49m\n\u001b[0;32m   1884\u001b[0m \u001b[43m    \u001b[49m\u001b[43mcompression\u001b[49m\u001b[38;5;241;43m=\u001b[39;49m\u001b[38;5;28;43mself\u001b[39;49m\u001b[38;5;241;43m.\u001b[39;49m\u001b[43moptions\u001b[49m\u001b[38;5;241;43m.\u001b[39;49m\u001b[43mget\u001b[49m\u001b[43m(\u001b[49m\u001b[38;5;124;43m\"\u001b[39;49m\u001b[38;5;124;43mcompression\u001b[39;49m\u001b[38;5;124;43m\"\u001b[39;49m\u001b[43m,\u001b[49m\u001b[43m \u001b[49m\u001b[38;5;28;43;01mNone\u001b[39;49;00m\u001b[43m)\u001b[49m\u001b[43m,\u001b[49m\n\u001b[0;32m   1885\u001b[0m \u001b[43m    \u001b[49m\u001b[43mmemory_map\u001b[49m\u001b[38;5;241;43m=\u001b[39;49m\u001b[38;5;28;43mself\u001b[39;49m\u001b[38;5;241;43m.\u001b[39;49m\u001b[43moptions\u001b[49m\u001b[38;5;241;43m.\u001b[39;49m\u001b[43mget\u001b[49m\u001b[43m(\u001b[49m\u001b[38;5;124;43m\"\u001b[39;49m\u001b[38;5;124;43mmemory_map\u001b[39;49m\u001b[38;5;124;43m\"\u001b[39;49m\u001b[43m,\u001b[49m\u001b[43m \u001b[49m\u001b[38;5;28;43;01mFalse\u001b[39;49;00m\u001b[43m)\u001b[49m\u001b[43m,\u001b[49m\n\u001b[0;32m   1886\u001b[0m \u001b[43m    \u001b[49m\u001b[43mis_text\u001b[49m\u001b[38;5;241;43m=\u001b[39;49m\u001b[43mis_text\u001b[49m\u001b[43m,\u001b[49m\n\u001b[0;32m   1887\u001b[0m \u001b[43m    \u001b[49m\u001b[43merrors\u001b[49m\u001b[38;5;241;43m=\u001b[39;49m\u001b[38;5;28;43mself\u001b[39;49m\u001b[38;5;241;43m.\u001b[39;49m\u001b[43moptions\u001b[49m\u001b[38;5;241;43m.\u001b[39;49m\u001b[43mget\u001b[49m\u001b[43m(\u001b[49m\u001b[38;5;124;43m\"\u001b[39;49m\u001b[38;5;124;43mencoding_errors\u001b[39;49m\u001b[38;5;124;43m\"\u001b[39;49m\u001b[43m,\u001b[49m\u001b[43m \u001b[49m\u001b[38;5;124;43m\"\u001b[39;49m\u001b[38;5;124;43mstrict\u001b[39;49m\u001b[38;5;124;43m\"\u001b[39;49m\u001b[43m)\u001b[49m\u001b[43m,\u001b[49m\n\u001b[0;32m   1888\u001b[0m \u001b[43m    \u001b[49m\u001b[43mstorage_options\u001b[49m\u001b[38;5;241;43m=\u001b[39;49m\u001b[38;5;28;43mself\u001b[39;49m\u001b[38;5;241;43m.\u001b[39;49m\u001b[43moptions\u001b[49m\u001b[38;5;241;43m.\u001b[39;49m\u001b[43mget\u001b[49m\u001b[43m(\u001b[49m\u001b[38;5;124;43m\"\u001b[39;49m\u001b[38;5;124;43mstorage_options\u001b[39;49m\u001b[38;5;124;43m\"\u001b[39;49m\u001b[43m,\u001b[49m\u001b[43m \u001b[49m\u001b[38;5;28;43;01mNone\u001b[39;49;00m\u001b[43m)\u001b[49m\u001b[43m,\u001b[49m\n\u001b[0;32m   1889\u001b[0m \u001b[43m\u001b[49m\u001b[43m)\u001b[49m\n\u001b[0;32m   1890\u001b[0m \u001b[38;5;28;01massert\u001b[39;00m \u001b[38;5;28mself\u001b[39m\u001b[38;5;241m.\u001b[39mhandles \u001b[38;5;129;01mis\u001b[39;00m \u001b[38;5;129;01mnot\u001b[39;00m \u001b[38;5;28;01mNone\u001b[39;00m\n\u001b[0;32m   1891\u001b[0m f \u001b[38;5;241m=\u001b[39m \u001b[38;5;28mself\u001b[39m\u001b[38;5;241m.\u001b[39mhandles\u001b[38;5;241m.\u001b[39mhandle\n",
      "File \u001b[1;32mc:\\Users\\nadja\\PyProjects\\LongCancer_LogReg_NB\\logvenv\\Lib\\site-packages\\pandas\\io\\common.py:873\u001b[0m, in \u001b[0;36mget_handle\u001b[1;34m(path_or_buf, mode, encoding, compression, memory_map, is_text, errors, storage_options)\u001b[0m\n\u001b[0;32m    868\u001b[0m \u001b[38;5;28;01melif\u001b[39;00m \u001b[38;5;28misinstance\u001b[39m(handle, \u001b[38;5;28mstr\u001b[39m):\n\u001b[0;32m    869\u001b[0m     \u001b[38;5;66;03m# Check whether the filename is to be opened in binary mode.\u001b[39;00m\n\u001b[0;32m    870\u001b[0m     \u001b[38;5;66;03m# Binary mode does not support 'encoding' and 'newline'.\u001b[39;00m\n\u001b[0;32m    871\u001b[0m     \u001b[38;5;28;01mif\u001b[39;00m ioargs\u001b[38;5;241m.\u001b[39mencoding \u001b[38;5;129;01mand\u001b[39;00m \u001b[38;5;124m\"\u001b[39m\u001b[38;5;124mb\u001b[39m\u001b[38;5;124m\"\u001b[39m \u001b[38;5;129;01mnot\u001b[39;00m \u001b[38;5;129;01min\u001b[39;00m ioargs\u001b[38;5;241m.\u001b[39mmode:\n\u001b[0;32m    872\u001b[0m         \u001b[38;5;66;03m# Encoding\u001b[39;00m\n\u001b[1;32m--> 873\u001b[0m         handle \u001b[38;5;241m=\u001b[39m \u001b[38;5;28;43mopen\u001b[39;49m\u001b[43m(\u001b[49m\n\u001b[0;32m    874\u001b[0m \u001b[43m            \u001b[49m\u001b[43mhandle\u001b[49m\u001b[43m,\u001b[49m\n\u001b[0;32m    875\u001b[0m \u001b[43m            \u001b[49m\u001b[43mioargs\u001b[49m\u001b[38;5;241;43m.\u001b[39;49m\u001b[43mmode\u001b[49m\u001b[43m,\u001b[49m\n\u001b[0;32m    876\u001b[0m \u001b[43m            \u001b[49m\u001b[43mencoding\u001b[49m\u001b[38;5;241;43m=\u001b[39;49m\u001b[43mioargs\u001b[49m\u001b[38;5;241;43m.\u001b[39;49m\u001b[43mencoding\u001b[49m\u001b[43m,\u001b[49m\n\u001b[0;32m    877\u001b[0m \u001b[43m            \u001b[49m\u001b[43merrors\u001b[49m\u001b[38;5;241;43m=\u001b[39;49m\u001b[43merrors\u001b[49m\u001b[43m,\u001b[49m\n\u001b[0;32m    878\u001b[0m \u001b[43m            \u001b[49m\u001b[43mnewline\u001b[49m\u001b[38;5;241;43m=\u001b[39;49m\u001b[38;5;124;43m\"\u001b[39;49m\u001b[38;5;124;43m\"\u001b[39;49m\u001b[43m,\u001b[49m\n\u001b[0;32m    879\u001b[0m \u001b[43m        \u001b[49m\u001b[43m)\u001b[49m\n\u001b[0;32m    880\u001b[0m     \u001b[38;5;28;01melse\u001b[39;00m:\n\u001b[0;32m    881\u001b[0m         \u001b[38;5;66;03m# Binary mode\u001b[39;00m\n\u001b[0;32m    882\u001b[0m         handle \u001b[38;5;241m=\u001b[39m \u001b[38;5;28mopen\u001b[39m(handle, ioargs\u001b[38;5;241m.\u001b[39mmode)\n",
      "\u001b[1;31mFileNotFoundError\u001b[0m: [Errno 2] No such file or directory: '/kaggle/input/lung-cancer-risk-in-25-countries/lung_cancer_prediction_dataset.csv'"
     ]
    }
   ],
   "source": [
    "data =  pd.read_csv(\"/kaggle/input/lung-cancer-risk-in-25-countries/lung_cancer_prediction_dataset.csv\")\n",
    "df = data.copy()\n",
    "df.head()"
   ]
  },
  {
   "cell_type": "markdown",
   "metadata": {},
   "source": [
    "# Exploratory Data Analysis"
   ]
  },
  {
   "cell_type": "code",
   "execution_count": null,
   "metadata": {
    "execution": {
     "iopub.execute_input": "2025-02-08T10:51:37.516211Z",
     "iopub.status.busy": "2025-02-08T10:51:37.5159Z",
     "iopub.status.idle": "2025-02-08T10:51:38.193504Z",
     "shell.execute_reply": "2025-02-08T10:51:38.192411Z",
     "shell.execute_reply.started": "2025-02-08T10:51:37.516186Z"
    },
    "trusted": true
   },
   "outputs": [],
   "source": [
    "def basic_data_insights(df):\n",
    "    \"\"\" This method provides basic details about data.\"\"\"\n",
    "    print(\"\\n Dimension of data: \", df.shape)\n",
    "    print(\"\\n Columns of data: \\n\", df.columns.to_list())\n",
    "    print( df.info())\n",
    "    print(\"\\n Percentage of null values in each column: \\n\",\n",
    "         (df.isna().sum()/len(df))*100)\n",
    "    print(\"\\n Total duplicate records: \", df.duplicated().sum())\n",
    "    print(\"\\n Basic Statistical summary: \", df.describe())\n",
    "\n",
    "\n",
    "# calling methoda\n",
    "basic_data_insights(df)\n",
    "    "
   ]
  },
  {
   "cell_type": "markdown",
   "metadata": {},
   "source": [
    "We got 220632 records and 24 columns. 'Lung_Cancer_Diagnosis' seems our target variable.\n",
    "There are 15 categorical features and 9 numerical features.\n",
    "Cancer_Stage and Treatment_Type columns have more than 90% null values. So, it's better to drop these columns.\n",
    "Basic Statistical Summary can be seen."
   ]
  },
  {
   "cell_type": "code",
   "execution_count": null,
   "metadata": {
    "execution": {
     "iopub.execute_input": "2025-02-08T10:51:38.195997Z",
     "iopub.status.busy": "2025-02-08T10:51:38.195511Z",
     "iopub.status.idle": "2025-02-08T10:51:38.26184Z",
     "shell.execute_reply": "2025-02-08T10:51:38.260776Z",
     "shell.execute_reply.started": "2025-02-08T10:51:38.195954Z"
    },
    "trusted": true
   },
   "outputs": [],
   "source": [
    "# Handling Missing Values\n",
    "# Imputing missing values with mode.\n",
    "\n",
    "def impute_with_mode(df, columns):\n",
    "    \"\"\"This function replaces null values with mode of that column\"\"\"\n",
    "    warnings.simplefilter(action='ignore', category=FutureWarning)\n",
    "    for col in columns:\n",
    "        if col in df.columns:\n",
    "            mode = df[col].mode()[0]\n",
    "            df[col].fillna(mode, inplace = True)\n",
    "        else:\n",
    "            print(f\"Column {col} not found in data\")\n",
    "\n",
    "    return df\n",
    "\n",
    "# calling it.\n",
    "columns = ['Cancer_Stage','Treatment_Type']\n",
    "df = impute_with_mode(df,columns)\n",
    "\n",
    "# validation.\n",
    "print(df[['Cancer_Stage','Treatment_Type']].isna().sum())"
   ]
  },
  {
   "cell_type": "markdown",
   "metadata": {},
   "source": [
    "There are no missing values in data now."
   ]
  },
  {
   "cell_type": "code",
   "execution_count": null,
   "metadata": {
    "execution": {
     "iopub.execute_input": "2025-02-08T10:51:38.263143Z",
     "iopub.status.busy": "2025-02-08T10:51:38.262844Z",
     "iopub.status.idle": "2025-02-08T10:51:43.394971Z",
     "shell.execute_reply": "2025-02-08T10:51:43.393643Z",
     "shell.execute_reply.started": "2025-02-08T10:51:38.263119Z"
    },
    "trusted": true
   },
   "outputs": [],
   "source": [
    "# Visualizing categorical columns\n",
    "def plot_cat_distribution(df,cat_cols):\n",
    "    \"\"\"This method plots the distribution of categorical features using countplot\"\"\"\n",
    "    warnings.simplefilter(action='ignore', category=FutureWarning)\n",
    "    for col in cat_cols:\n",
    "        plt.figure(figsize=(20,9))\n",
    "        sns.countplot(data=df, x=col)\n",
    "        plt.title(f\"Distribution of {col}\")\n",
    "        plt.show()\n",
    "        print(\"\\n\")\n",
    "\n",
    "# calling it\n",
    "cat_cols = df.select_dtypes(include=['object']).columns\n",
    "plot_cat_distribution(df, cat_cols)\n",
    "    "
   ]
  },
  {
   "cell_type": "code",
   "execution_count": null,
   "metadata": {
    "execution": {
     "iopub.execute_input": "2025-02-08T10:51:43.396412Z",
     "iopub.status.busy": "2025-02-08T10:51:43.396077Z",
     "iopub.status.idle": "2025-02-08T10:51:56.450358Z",
     "shell.execute_reply": "2025-02-08T10:51:56.44913Z",
     "shell.execute_reply.started": "2025-02-08T10:51:43.396369Z"
    },
    "trusted": true
   },
   "outputs": [],
   "source": [
    "# Visualize numerical column's distribution\n",
    "def plot_num_distribution(df, num_cols):\n",
    "    \"\"\"This function provides the distribution of numerical features\"\"\"\n",
    "    warnings.simplefilter(action='ignore', category=FutureWarning)\n",
    "    for col in num_cols:\n",
    "        plt.figure(figsize=(17,9))\n",
    "        sns.histplot(df[col], kde = True)\n",
    "        plt.title(f\"Distribution of {col}\")\n",
    "        plt.show()\n",
    "        print(\"\\n\")\n",
    "\n",
    "# calling it\n",
    "num_cols = df.select_dtypes(include=['int64','float64']).columns\n",
    "plot_num_distribution(df, num_cols)"
   ]
  },
  {
   "cell_type": "code",
   "execution_count": null,
   "metadata": {
    "execution": {
     "iopub.execute_input": "2025-02-08T10:51:56.451681Z",
     "iopub.status.busy": "2025-02-08T10:51:56.451356Z",
     "iopub.status.idle": "2025-02-08T10:51:57.034189Z",
     "shell.execute_reply": "2025-02-08T10:51:57.033124Z",
     "shell.execute_reply.started": "2025-02-08T10:51:56.451654Z"
    },
    "trusted": true
   },
   "outputs": [],
   "source": [
    "# Correlation between numerical features\n",
    "def plot_correlation_heatmap(df):\n",
    "    \"\"\" This function plots correlation heatmap for numerical features\"\"\"\n",
    "    # Calculate correlation matrix\n",
    "    corr_matrix = df.corr()\n",
    "    # Create a heatmap\n",
    "    plt.figure(figsize=(12, 8))\n",
    "    sns.heatmap(corr_matrix, annot=True, cmap='coolwarm', fmt='.2f', linewidths=0.5)\n",
    "    plt.title('Correlation Heatmap')\n",
    "    plt.show()\n",
    "\n",
    "# Calling it\n",
    "plot_correlation_heatmap(df[num_cols])"
   ]
  },
  {
   "cell_type": "markdown",
   "metadata": {},
   "source": [
    "We can see correlation among few numerical features, like Mortality Rate and Survival years have correlation.\n",
    "Similarly, Years of smoking and cigarettes per day. population size and annul lung cancer deaths.\n",
    "Years of Smoking and  Cigarettes per day."
   ]
  },
  {
   "cell_type": "code",
   "execution_count": null,
   "metadata": {
    "execution": {
     "iopub.execute_input": "2025-02-08T10:51:57.037396Z",
     "iopub.status.busy": "2025-02-08T10:51:57.037033Z",
     "iopub.status.idle": "2025-02-08T10:52:04.294256Z",
     "shell.execute_reply": "2025-02-08T10:52:04.292965Z",
     "shell.execute_reply.started": "2025-02-08T10:51:57.037367Z"
    },
    "trusted": true
   },
   "outputs": [],
   "source": [
    "# Relation between categorical features and target variable ie Lung_Cancer_Diagnosis\n",
    "def plot_target_cat(df, cat_cols):\n",
    "    \"\"\"This function provides the distribution of numerical features\"\"\"\n",
    "    warnings.simplefilter(action='ignore', category=FutureWarning)\n",
    "    for col in cat_cols:\n",
    "        if col != 'Lung_Cancer_Diagnosis' and col !='Country':\n",
    "           print(f\"\\n Relation between Lung Cancer and {col}\")\n",
    "           crstab = pd.crosstab(df['Lung_Cancer_Diagnosis'],df[col], margins = True)\n",
    "           print(crstab)\n",
    "           print(\"\\n\")\n",
    "           plt.figure(figsize=(12,6))\n",
    "           sns.countplot(df, x = col, hue = 'Lung_Cancer_Diagnosis')\n",
    "           plt.title(f\"Relation between Lung Cancer and {col}\")\n",
    "           plt.show()\n",
    "           print(\"\\n\")\n",
    "\n",
    "# calling fucntion\n",
    "plot_target_cat(df,cat_cols)\n"
   ]
  },
  {
   "cell_type": "markdown",
   "metadata": {},
   "source": [
    "We can see how Lung cancer is related to other categorical features."
   ]
  },
  {
   "cell_type": "code",
   "execution_count": null,
   "metadata": {
    "execution": {
     "iopub.execute_input": "2025-02-08T10:52:04.295946Z",
     "iopub.status.busy": "2025-02-08T10:52:04.295546Z",
     "iopub.status.idle": "2025-02-08T10:52:04.939207Z",
     "shell.execute_reply": "2025-02-08T10:52:04.938043Z",
     "shell.execute_reply.started": "2025-02-08T10:52:04.295903Z"
    },
    "trusted": true
   },
   "outputs": [],
   "source": [
    "# Chi square test to check significant association of categorical columns with Lung Cancer\n",
    "# it will give p value\n",
    "from scipy.stats import chi2_contingency\n",
    "\n",
    "for col in cat_cols:\n",
    "    print(f\"Chi-Square Test for {col}:\")\n",
    "    \n",
    "    # Create the contingency table between the categorical column and 'Lung Cancer Diagnosis'\n",
    "    contingency_table = pd.crosstab(df[col], data['Lung_Cancer_Diagnosis'])\n",
    "    \n",
    "    # Perform the chi-square test\n",
    "    chi2, p, dof, expected = chi2_contingency(contingency_table)\n",
    "    \n",
    "    # Print the p-value for the test\n",
    "    print(f\"p-value: {p}\")\n",
    "    \n",
    "    # You can also print the expected counts for each category\n",
    "    print(\"Expected frequencies:\")\n",
    "    print(expected)\n",
    "    \n",
    "    # If the p-value is small (below 0.05), it suggests a statistically significant relationship\n",
    "    if p < 0.05:\n",
    "        print(f\"Conclusion: There is a statistically significant relationship between {col} and Lung Cancer.\")\n",
    "    else:\n",
    "        print(f\"Conclusion: There is no statistically significant relationship between {col} and Lung Cancer.\")\n",
    "    \n",
    "    print(\"\\n\")"
   ]
  },
  {
   "cell_type": "markdown",
   "metadata": {},
   "source": [
    "We can see following categorical columns have significant realationship with Lung Cancer:\n",
    "1. Treatment Type\n",
    "2. Adenocarcinoma_Type\n",
    "3. Cancer Stage\n",
    "4. Gender\n",
    "5. Smoker"
   ]
  },
  {
   "cell_type": "code",
   "execution_count": null,
   "metadata": {
    "execution": {
     "iopub.execute_input": "2025-02-08T10:52:04.940273Z",
     "iopub.status.busy": "2025-02-08T10:52:04.939994Z",
     "iopub.status.idle": "2025-02-08T10:52:05.153643Z",
     "shell.execute_reply": "2025-02-08T10:52:05.152478Z",
     "shell.execute_reply.started": "2025-02-08T10:52:04.94025Z"
    },
    "trusted": true
   },
   "outputs": [],
   "source": [
    "# Distribution of target variable using piechart\n",
    "\n",
    "def plot_target_pie_chart(df, target_column):\n",
    "    # Get the value counts of the target column\n",
    "    target_counts = df[target_column].value_counts()\n",
    "\n",
    "    # Plot the pie chart\n",
    "    plt.figure(figsize=(14, 8))\n",
    "    target_counts.plot.pie(autopct='%1.1f%%', startangle=90, colors=['#66b3ff', '#99ff99'])\n",
    "    plt.title(f'Distribution of {target_column}')\n",
    "    plt.ylabel('')  \n",
    "    plt.show()\n",
    "\n",
    "# calling it\n",
    "plot_target_pie_chart(df, 'Lung_Cancer_Diagnosis')\n"
   ]
  },
  {
   "cell_type": "markdown",
   "metadata": {},
   "source": [
    "4.1 % of people have been diagnosed lung cancer positive."
   ]
  },
  {
   "cell_type": "markdown",
   "metadata": {},
   "source": [
    "# Machine Learning"
   ]
  },
  {
   "cell_type": "markdown",
   "metadata": {},
   "source": [
    "# Data Preprocessing and Feature Engineering"
   ]
  },
  {
   "cell_type": "code",
   "execution_count": null,
   "metadata": {
    "execution": {
     "iopub.execute_input": "2025-02-08T11:05:35.030907Z",
     "iopub.status.busy": "2025-02-08T11:05:35.030378Z",
     "iopub.status.idle": "2025-02-08T11:05:35.036729Z",
     "shell.execute_reply": "2025-02-08T11:05:35.035226Z",
     "shell.execute_reply.started": "2025-02-08T11:05:35.030872Z"
    },
    "trusted": true
   },
   "outputs": [],
   "source": [
    "# Import additional libraries\n",
    "from sklearn.compose import ColumnTransformer\n",
    "from sklearn.pipeline import Pipeline\n",
    "from sklearn.tree import DecisionTreeClassifier\n",
    "from sklearn.ensemble import  GradientBoostingClassifier, AdaBoostClassifier"
   ]
  },
  {
   "cell_type": "code",
   "execution_count": null,
   "metadata": {
    "execution": {
     "iopub.execute_input": "2025-02-08T10:56:44.70695Z",
     "iopub.status.busy": "2025-02-08T10:56:44.706372Z",
     "iopub.status.idle": "2025-02-08T10:56:44.766258Z",
     "shell.execute_reply": "2025-02-08T10:56:44.764833Z",
     "shell.execute_reply.started": "2025-02-08T10:56:44.706911Z"
    },
    "trusted": true
   },
   "outputs": [],
   "source": [
    "# Separating features and target\n",
    "X = data.drop(columns=['Lung_Cancer_Diagnosis','ID'])\n",
    "y = data['Lung_Cancer_Diagnosis']\n",
    "print(\"\\n Shape of X: \", X.shape)\n",
    "print(\"\\n Shape of y: \", y.shape)"
   ]
  },
  {
   "cell_type": "code",
   "execution_count": null,
   "metadata": {
    "execution": {
     "iopub.execute_input": "2025-02-08T11:00:12.524814Z",
     "iopub.status.busy": "2025-02-08T11:00:12.524224Z",
     "iopub.status.idle": "2025-02-08T11:00:12.580132Z",
     "shell.execute_reply": "2025-02-08T11:00:12.578305Z",
     "shell.execute_reply.started": "2025-02-08T11:00:12.524771Z"
    },
    "trusted": true
   },
   "outputs": [],
   "source": [
    "# identify categorical columns\n",
    "categorical_features = X.select_dtypes(include=['object']).columns\n",
    "print(categorical_features)"
   ]
  },
  {
   "cell_type": "code",
   "execution_count": null,
   "metadata": {
    "execution": {
     "iopub.execute_input": "2025-02-08T11:09:20.652219Z",
     "iopub.status.busy": "2025-02-08T11:09:20.651844Z",
     "iopub.status.idle": "2025-02-08T11:09:20.662349Z",
     "shell.execute_reply": "2025-02-08T11:09:20.660771Z",
     "shell.execute_reply.started": "2025-02-08T11:09:20.652193Z"
    },
    "trusted": true
   },
   "outputs": [],
   "source": [
    "# creating preprocessing pipeline\n",
    "# We will be using OneHotEncoder for encoding categorical variable, we can also use Label encoder coz categorical columns seem ordinal but may contain\n",
    "# more than 2 values.\n",
    "# we will also do scaling for few models like Logistic Regression\n",
    "preprocessor = ColumnTransformer(transformers=[\n",
    "    ('categorical', OneHotEncoder(drop='first', sparse = False), categorical_features),\n",
    "    ('scaling', StandardScaler(), X.select_dtypes(exclude=['object']).columns)\n",
    "])\n"
   ]
  },
  {
   "cell_type": "code",
   "execution_count": null,
   "metadata": {
    "execution": {
     "iopub.execute_input": "2025-02-08T11:10:38.321363Z",
     "iopub.status.busy": "2025-02-08T11:10:38.320931Z",
     "iopub.status.idle": "2025-02-08T11:10:38.327899Z",
     "shell.execute_reply": "2025-02-08T11:10:38.326163Z",
     "shell.execute_reply.started": "2025-02-08T11:10:38.321334Z"
    },
    "trusted": true
   },
   "outputs": [],
   "source": [
    "# Inititalise classifiers\n",
    "classifiers = {\n",
    "    'Logistic Regression': LogisticRegression(),\n",
    "    'Decision Tree': DecisionTreeClassifier(),\n",
    "    'Random Forest': RandomForestClassifier(),\n",
    "    'Gradient Boosting': GradientBoostingClassifier(),\n",
    "    'Ada Boost': AdaBoostClassifier(),\n",
    "   }"
   ]
  },
  {
   "cell_type": "code",
   "execution_count": null,
   "metadata": {
    "execution": {
     "iopub.execute_input": "2025-02-08T11:12:19.469681Z",
     "iopub.status.busy": "2025-02-08T11:12:19.469166Z",
     "iopub.status.idle": "2025-02-08T11:12:19.47642Z",
     "shell.execute_reply": "2025-02-08T11:12:19.474953Z",
     "shell.execute_reply.started": "2025-02-08T11:12:19.469641Z"
    },
    "trusted": true
   },
   "outputs": [],
   "source": [
    "# Function to train and evaluate models\n",
    "def train_and_evaluate(classifiers, X, y):\n",
    "    \n",
    "    X_train, X_test, y_train, y_test = train_test_split(X, y, test_size=0.2, random_state=42)\n",
    "\n",
    "    # Loop through classifiers\n",
    "    for model_name, model in classifiers.items():\n",
    "        print(f\"Training {model_name}:\")\n",
    "        \n",
    "        # Create a pipeline for preprocessing and the model\n",
    "        pipeline = Pipeline(steps=[\n",
    "            ('preprocessor', preprocessor),\n",
    "            ('classifiers', model)\n",
    "        ])\n",
    "\n",
    "        # Fit the model\n",
    "        pipeline.fit(X_train, y_train)\n",
    "\n",
    "        # Make predictions and evaluate\n",
    "        y_pred = pipeline.predict(X_test)\n",
    "        accuracy = accuracy_score(y_test, y_pred)\n",
    "        print(f\"{model_name} Accuracy: {accuracy:.4f}\\n\")\n",
    "\n"
   ]
  },
  {
   "cell_type": "code",
   "execution_count": null,
   "metadata": {
    "execution": {
     "iopub.execute_input": "2025-02-08T11:12:42.292885Z",
     "iopub.status.busy": "2025-02-08T11:12:42.29243Z",
     "iopub.status.idle": "2025-02-08T11:13:28.204578Z",
     "shell.execute_reply": "2025-02-08T11:13:28.203259Z",
     "shell.execute_reply.started": "2025-02-08T11:12:42.292854Z"
    },
    "trusted": true
   },
   "outputs": [],
   "source": [
    "# Train and evaluate all models\n",
    "train_and_evaluate(classifiers, X, y)"
   ]
  }
 ],
 "metadata": {
  "kaggle": {
   "accelerator": "none",
   "dataSources": [
    {
     "datasetId": 6619815,
     "sourceId": 10685011,
     "sourceType": "datasetVersion"
    }
   ],
   "dockerImageVersionId": 30886,
   "isGpuEnabled": false,
   "isInternetEnabled": false,
   "language": "python",
   "sourceType": "notebook"
  },
  "kernelspec": {
   "display_name": "logvenv",
   "language": "python",
   "name": "python3"
  },
  "language_info": {
   "codemirror_mode": {
    "name": "ipython",
    "version": 3
   },
   "file_extension": ".py",
   "mimetype": "text/x-python",
   "name": "python",
   "nbconvert_exporter": "python",
   "pygments_lexer": "ipython3",
   "version": "3.12.6"
  }
 },
 "nbformat": 4,
 "nbformat_minor": 4
}
